{
  "nbformat": 4,
  "nbformat_minor": 0,
  "metadata": {
    "colab": {
      "name": "peelingSim.ipynb",
      "version": "0.3.2",
      "provenance": []
    },
    "kernelspec": {
      "name": "python3",
      "display_name": "Python 3"
    }
  },
  "cells": [
    {
      "metadata": {
        "id": "Zv7TJ6WU9rGM",
        "colab_type": "code",
        "colab": {}
      },
      "cell_type": "code",
      "source": [
        "import networkx as nx\n",
        "import collections\n",
        "import matplotlib.pylab as plt\n",
        "import numpy as np\n",
        "import scipy"
      ],
      "execution_count": 0,
      "outputs": []
    },
    {
      "metadata": {
        "id": "zm4frUtS_Gom",
        "colab_type": "code",
        "colab": {}
      },
      "cell_type": "code",
      "source": [
        "# bin one is the youngest\n",
        "def peeling(H):\n",
        "  bins = []\n",
        "  G = H.copy()\n",
        "  while G.order() > 0:\n",
        "    currbin = []\n",
        "    minDeg = min(list(G.degree(G)), key = lambda x : x[1])[1]\n",
        "    currlist = list(G.nodes())\n",
        "    for n in currlist:\n",
        "      if G.degree(n) == minDeg:\n",
        "        currbin.append(n)\n",
        "    G.remove_nodes_from(currbin)\n",
        "    bins.append(currbin)\n",
        "  return bins     "
      ],
      "execution_count": 0,
      "outputs": []
    },
    {
      "metadata": {
        "id": "wU0q4g7f_IsN",
        "colab_type": "code",
        "colab": {}
      },
      "cell_type": "code",
      "source": [
        "def measures(G):\n",
        "  bins = peeling(G)\n",
        "  correct = 0\n",
        "  guesses = 0\n",
        "  for i in range(0, len(bins)):\n",
        "    currcomp = 0\n",
        "    for j in range(i + 1, len(bins)):\n",
        "      currcomp += len(bins[i])*len(bins[j])\n",
        "    guesses = guesses + currcomp\n",
        "  \n",
        "  for i in range(0, len(bins)):\n",
        "    for j in range(i + 1, len(bins)):\n",
        "      for k in bins[i]:\n",
        "        for l in bins[j]:\n",
        "          if k > l:\n",
        "            correct = correct + 1\n",
        "  \n",
        "  return correct, guesses, correct/guesses, correct/scipy.misc.comb(G.order(), 2), guesses/scipy.misc.comb(G.order(), 2)\n",
        "  \n",
        "      "
      ],
      "execution_count": 0,
      "outputs": []
    },
    {
      "metadata": {
        "id": "YFfZ7ueaAsBS",
        "colab_type": "code",
        "colab": {}
      },
      "cell_type": "code",
      "source": [
        "G = nx.barabasi_albert_graph(5000,5)"
      ],
      "execution_count": 0,
      "outputs": []
    },
    {
      "metadata": {
        "id": "fR1IavfuB92T",
        "colab_type": "code",
        "colab": {
          "base_uri": "https://localhost:8080/",
          "height": 34
        },
        "outputId": "cf35912c-78f2-40ae-a73e-ffbbeee97d40"
      },
      "cell_type": "code",
      "source": [
        "measures(G)"
      ],
      "execution_count": 20,
      "outputs": [
        {
          "output_type": "execute_result",
          "data": {
            "text/plain": [
              "(9525075, 10787805, 0.8829483847733621, 0.7621584316863372, 0.8631970394078816)"
            ]
          },
          "metadata": {
            "tags": []
          },
          "execution_count": 20
        }
      ]
    },
    {
      "metadata": {
        "id": "cstYEW1RCARZ",
        "colab_type": "code",
        "colab": {}
      },
      "cell_type": "code",
      "source": [
        "def simMeasures(n, m):\n",
        "  acc = 0\n",
        "  for i in range(0, n):\n",
        "    G = nx.barabasi_albert_graph(5000,m)\n",
        "    _, _, currAcc, _ = measures(G)\n",
        "    acc = acc + currAcc\n",
        "  return acc/n\n",
        "    "
      ],
      "execution_count": 0,
      "outputs": []
    },
    {
      "metadata": {
        "id": "CNX0tFkUEB3L",
        "colab_type": "code",
        "colab": {
          "base_uri": "https://localhost:8080/",
          "height": 34
        },
        "outputId": "c6550ed9-c7ec-4de9-ec37-60108bf97052"
      },
      "cell_type": "code",
      "source": [
        "simMeasures(1000, 5)"
      ],
      "execution_count": 22,
      "outputs": [
        {
          "output_type": "execute_result",
          "data": {
            "text/plain": [
              "0.8781661563093431"
            ]
          },
          "metadata": {
            "tags": []
          },
          "execution_count": 22
        }
      ]
    },
    {
      "metadata": {
        "id": "dlS8oGZWEHvK",
        "colab_type": "code",
        "colab": {}
      },
      "cell_type": "code",
      "source": [
        ""
      ],
      "execution_count": 0,
      "outputs": []
    }
  ]
}